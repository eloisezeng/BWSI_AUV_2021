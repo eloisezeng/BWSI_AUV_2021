{
 "metadata": {
  "language_info": {
   "codemirror_mode": {
    "name": "ipython",
    "version": 3
   },
   "file_extension": ".py",
   "mimetype": "text/x-python",
   "name": "python",
   "nbconvert_exporter": "python",
   "pygments_lexer": "ipython3",
   "version": "3.8.2"
  },
  "orig_nbformat": 4,
  "kernelspec": {
   "name": "python3",
   "display_name": "Python 3.8.2 64-bit ('3.8')"
  },
  "interpreter": {
   "hash": "082e9a3bcad0a290d0001e938aa60b99250c6c2ef33a923c00b70f9826caf4b7"
  }
 },
 "nbformat": 4,
 "nbformat_minor": 2,
 "cells": [
  {
   "cell_type": "code",
   "execution_count": 1,
   "metadata": {},
   "outputs": [
    {
     "output_type": "stream",
     "name": "stdout",
     "text": [
      "1.1131480075391245\n0.5512807333135192\n0.36090267288409694\n0.27079405679658436\n0.2207962336633997\n"
     ]
    }
   ],
   "source": [
    "import numpy as np\n",
    "w = np.random.randn(1024) # contaminating noise. Mean = 0\n",
    "print(np.var(w)) # about 1\n",
    "w1 = np.random.randn(1024)\n",
    "print(np.var((w + w1) / 2))\n",
    "w2 = np.random.randn(1024)\n",
    "print(np.var((w + w1 + w2) / 3))\n",
    "w3 = np.random.randn(1024)\n",
    "print(np.var((w + w1 + w2 + w3) / 4))\n",
    "w4 = np.random.randn(1024)\n",
    "print(np.var((w + w1 + w2 + w3 + w4) / 5)) # variance decreases as there's more samples"
   ]
  },
  {
   "cell_type": "code",
   "execution_count": 2,
   "metadata": {},
   "outputs": [
    {
     "output_type": "stream",
     "name": "stdout",
     "text": [
      "0.9648088310689158\n0.4736869592367522\n0.3270033653282701\n0.25309172322564766\n0.2049741958782426\n\n\n0.07984657213437239\n0.04058355911769801\n0.026000979288661928\n0.019675182803137382\n0.016114301372410843\n"
     ]
    }
   ],
   "source": [
    "prev_w = np.zeros(1024)\n",
    "for i in range(5):\n",
    "    w_new = np.random.randn(1024)\n",
    "    prev_w += w_new\n",
    "    variance = np.var(prev_w / (i + 1))\n",
    "    print(variance)\n",
    "\n",
    "print(\"\\n\")\n",
    "prev_w = np.zeros(1024)\n",
    "for i in range(5):\n",
    "    w_new = np.random.random(1024)\n",
    "    prev_w += w_new\n",
    "    variance = np.var(prev_w / (i + 1) - np.mean(prev_w / (i + 1)))\n",
    "    print(variance)"
   ]
  },
  {
   "cell_type": "code",
   "execution_count": null,
   "metadata": {},
   "outputs": [],
   "source": []
  }
 ]
}