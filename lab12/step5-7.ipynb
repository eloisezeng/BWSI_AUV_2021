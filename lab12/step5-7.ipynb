{
 "metadata": {
  "language_info": {
   "codemirror_mode": {
    "name": "ipython",
    "version": 3
   },
   "file_extension": ".py",
   "mimetype": "text/x-python",
   "name": "python",
   "nbconvert_exporter": "python",
   "pygments_lexer": "ipython3",
   "version": "3.8.2"
  },
  "orig_nbformat": 4,
  "kernelspec": {
   "name": "python3",
   "display_name": "Python 3.8.2 64-bit ('3.8')"
  },
  "interpreter": {
   "hash": "082e9a3bcad0a290d0001e938aa60b99250c6c2ef33a923c00b70f9826caf4b7"
  }
 },
 "nbformat": 4,
 "nbformat_minor": 2,
 "cells": [
  {
   "cell_type": "code",
   "execution_count": 19,
   "metadata": {},
   "outputs": [
    {
     "output_type": "stream",
     "name": "stdout",
     "text": [
      "0.961833382446548\n",
      "7.660366656511484 \n",
      "\n",
      "0.4771251962467537\n",
      "8.571915984277224 \n",
      "\n",
      "0.31398783533102254\n",
      "10.915913694508998 \n",
      "\n",
      "0.24029773831037535\n",
      "11.110064178741442 \n",
      "\n",
      "0.18881521469744533\n",
      "10.773928250688597 \n",
      "\n"
     ]
    }
   ],
   "source": [
    "signal = np.zeros((1024, 1))\n",
    "signal[26, 0] = 1\n",
    "noise = np.random.randn(1024, 1)\n",
    "\n",
    "recordings = np.zeros((1024, 1))\n",
    "iters = 5\n",
    "for i in range(1, iters + 1):\n",
    "    new_noise = np.random.randn(1024, 1)\n",
    "    recordings += (signal + new_noise)\n",
    "    avg_recordings = recordings / i\n",
    "    signal_max = np.max(avg_recordings)\n",
    "    # print(signal_max)\n",
    "    noise = avg_recordings[avg_recordings != signal_max]\n",
    "    noise_variance = np.var(noise)\n",
    "    print(noise_variance)\n",
    "    snr = signal_max ** 2 / noise_variance # signal to noise ratio. increases as there's more iterations\n",
    "    print(snr, \"\\n\")"
   ]
  },
  {
   "cell_type": "code",
   "execution_count": 13,
   "metadata": {},
   "outputs": [
    {
     "output_type": "stream",
     "name": "stdout",
     "text": [
      "1.520527\n0.17791991\n12.994624277133363 \n\n"
     ]
    }
   ],
   "source": [
    "import numpy as np\n",
    "import cv2\n",
    "\n",
    "signal = np.zeros((1024, 1))\n",
    "signal[26, 0] = 1\n",
    "noise = np.random.randn(1024, 1)\n",
    "\n",
    "recordings = signal + new_noise\n",
    "recordings_smoothed = cv2.boxFilter(recordings, cv2.CV_32F, (1, 5))\n",
    "\n",
    "signal_max = np.max(recordings_smoothed)\n",
    "print(signal_max)\n",
    "noise = recordings_smoothed[recordings_smoothed != signal_max]\n",
    "noise_variance = np.var(noise)\n",
    "print(noise_variance)\n",
    "snr = signal_max ** 2 / noise_variance # signal to noise ratio. increases as there's more iterations\n",
    "print(snr, \"\\n\")"
   ]
  },
  {
   "cell_type": "code",
   "execution_count": 43,
   "metadata": {},
   "outputs": [
    {
     "output_type": "stream",
     "name": "stdout",
     "text": [
      "signal max 1.0\nsnr 4.948220066872518\nsignal max 0.5\nsnr 1.2370550167181296\nsignal max 0.33333334\nsnr 0.549802262423269\nsignal max 0.25\nsnr 0.3092637541795324\nsignal max 0.2\nsnr 0.19792880857363876\n"
     ]
    }
   ],
   "source": [
    "\"\"\"\n",
    "Step 6\n",
    "Generate the same 1024-element signal vector\n",
    "with a single point equal to one (and the rest zeros). Apply the box filter to this\n",
    "signal for filter lengths > 1. Now the variance is given by the table you made in step\n",
    "4 since the noise and signal have gone through the same processing step. Complete\n",
    "the table below. Do you notice anything about the SNR that is different from the\n",
    "averaging case in step 5?\n",
    "\"\"\"\n",
    "\n",
    "signal = np.zeros((1024, 1))\n",
    "signal[26, 0] = 1\n",
    "noise = np.random.randn(1024, 1)\n",
    "for filter_length in range(1, 6):\n",
    "    signal_smoothed = cv2.boxFilter(signal, cv2.CV_32F, (1, filter_length)) # filter_length is the number of times we're averaging a signal. In order to have the best SNR ratio, filter length is about the same size of the signal you're detecting. If filter length is greater, then noise gets blended into signal, as demonstrated in this step.\n",
    "    signal_max = np.max(signal_smoothed)\n",
    "    noise_smoothed = cv2.boxFilter(noise, cv2.CV_32F, (1, i))\n",
    "    noise_variance = np.var(noise_smoothed)\n",
    "    snr = signal_max ** 2 / noise_variance\n",
    "    print(\"signal max\", signal_max) # Going down fast\n",
    "    print(\"snr\", snr)"
   ]
  },
  {
   "cell_type": "code",
   "execution_count": 47,
   "metadata": {},
   "outputs": [
    {
     "output_type": "stream",
     "name": "stdout",
     "text": [
      "signal max 1.0\nnoise_variance 0.94330853\nsnr 1.0600985423374603\n\n\nsignal max 1.0\nnoise_variance 0.46042228\nsnr 2.171919233659098\n\n\nsignal max 1.0\nnoise_variance 0.30507395\nsnr 3.2778938049933264\n\n\nsignal max 1.0\nnoise_variance 0.22673719\nsnr 4.410392561813739\n\n\nsignal max 1.0\nnoise_variance 0.18316588\nsnr 5.45953214979368\n\n\n"
     ]
    }
   ],
   "source": [
    "\"\"\"\n",
    "Step 7\n",
    "Finally, let’s consider what would have happened if the signal was not a single point,\n",
    "but was instead a constant value for a period of time. Create a signal vector that is\n",
    "all zeros, and then add 10 consecutive points that have a value of 1. Repeat the table\n",
    "from step 6 and see what changes, if anything.\n",
    "\"\"\"\n",
    "\n",
    "signal = np.zeros((1024, 1))\n",
    "signal[26:37, 0] = 1\n",
    "noise = np.random.randn(1024, 1)\n",
    "for filter_length in range(1, 6):\n",
    "    signal_smoothed = cv2.boxFilter(signal, cv2.CV_32F, (1, filter_length)) # filter_length is the number of times we're averaging a signal. In order to have the best SNR ratio, filter length is about the same size of the signal you're detecting. If filter length is greater, then noise gets blended into signal, as demonstrated in this step.\n",
    "    signal_max = np.max(signal_smoothed)\n",
    "    noise_smoothed = cv2.boxFilter(noise, cv2.CV_32F, (1, filter_length))\n",
    "    noise_variance = np.var(noise_smoothed)\n",
    "    snr = signal_max ** 2 / noise_variance\n",
    "    print(\"signal max\", signal_max)\n",
    "    print(\"noise_variance\", noise_variance)\n",
    "    print(\"snr\", snr)\n",
    "    print(\"\\n\")"
   ]
  },
  {
   "cell_type": "code",
   "execution_count": null,
   "metadata": {},
   "outputs": [],
   "source": []
  }
 ]
}