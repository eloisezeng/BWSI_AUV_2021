{
 "metadata": {
  "language_info": {
   "codemirror_mode": {
    "name": "ipython",
    "version": 3
   },
   "file_extension": ".py",
   "mimetype": "text/x-python",
   "name": "python",
   "nbconvert_exporter": "python",
   "pygments_lexer": "ipython3",
   "version": "3.8.2"
  },
  "orig_nbformat": 4,
  "kernelspec": {
   "name": "python3",
   "display_name": "Python 3.8.2 64-bit ('3.8')"
  },
  "interpreter": {
   "hash": "082e9a3bcad0a290d0001e938aa60b99250c6c2ef33a923c00b70f9826caf4b7"
  }
 },
 "nbformat": 4,
 "nbformat_minor": 2,
 "cells": [
  {
   "cell_type": "code",
   "execution_count": 1,
   "metadata": {},
   "outputs": [
    {
     "output_type": "execute_result",
     "data": {
      "text/plain": [
       "1.0"
      ]
     },
     "metadata": {},
     "execution_count": 1
    }
   ],
   "source": [
    "import numpy as np\n",
    "import cv2\n",
    "\"\"\"\n",
    "Create a measurement signal that is a 1024-element vector with all zeros, except a 1\n",
    "in position 27 of the vector. Make copies of this vector and average them together,\n",
    "and take the peak value. Then assume this signal had the additive noise from step 2,\n",
    "and fill out the table below.\n",
    "\"\"\"\n",
    "signal = np.zeros((1024, 1))\n",
    "signal[26, 0] = 1\n",
    "noise\n",
    "\n",
    "signal1 = signal.copy()\n",
    "signal2 = signal.copy()\n",
    "signal3 = signal.copy()\n",
    "signal4 = signal.copy()\n",
    "\n",
    "peak_value = np.max((signal + signal1 + signal2 + signal3 + signal4) / 5)\n",
    "peak_value"
   ]
  },
  {
   "cell_type": "code",
   "execution_count": 3,
   "metadata": {},
   "outputs": [
    {
     "output_type": "stream",
     "name": "stdout",
     "text": [
      "16.333080696635545\n32.33557764305874\n33.23487978857798\n39.11656959999898\n"
     ]
    }
   ],
   "source": [
    "import numpy as np\n",
    "import cv2\n",
    "\"\"\"\n",
    "Create a measurement signal that is a 1024-element vector with all zeros, except a 1\n",
    "in position 27 of the vector. Make copies of this vector and average them together,\n",
    "and take the peak value. Then assume this signal had the additive noise from step 2,\n",
    "and fill out the table below.\n",
    "\"\"\"\n",
    "signal = np.zeros((1024, 1))\n",
    "signal[26, 0] = 1\n",
    "\n",
    "signal1 = signal.copy() + np.random.randn(1024)\n",
    "signal2 = signal.copy() + np.random.randn(1024)\n",
    "signal3 = signal.copy() + np.random.randn(1024)\n",
    "signal4 = signal.copy() + np.random.randn(1024)\n",
    "signal5 = signal.copy() + np.random.randn(1024)\n",
    "\n",
    "avg_recordings = (signal1 + signal2) / 2\n",
    "signal_max = np.max(avg_recordings)\n",
    "noise = avg_recordings[avg_recordings != signal_max]\n",
    "noise_variance = np.var(noise)\n",
    "snr = signal_max ** 2 / noise_variance\n",
    "print(snr)\n",
    "\n",
    "avg_recordings = (signal1 + signal2 + signal3) / 3\n",
    "signal_max = np.max(avg_recordings)\n",
    "noise = avg_recordings[avg_recordings != signal_max]\n",
    "noise_variance = np.var(noise)\n",
    "snr = signal_max ** 2 / noise_variance\n",
    "print(snr)\n",
    "\n",
    "avg_recordings = (signal1 + signal2 + signal3 + signal4) / 4\n",
    "signal_max = np.max(avg_recordings)\n",
    "noise = avg_recordings[avg_recordings != signal_max]\n",
    "noise_variance = np.var(noise)\n",
    "snr = signal_max ** 2 / noise_variance\n",
    "print(snr)\n",
    "\n",
    "avg_recordings = (signal + signal1 + signal2 + signal3 + signal4) / 5\n",
    "signal_max = np.max(avg_recordings)\n",
    "noise = avg_recordings[avg_recordings != signal_max]\n",
    "noise_variance = np.var(noise)\n",
    "snr = signal_max ** 2 / noise_variance\n",
    "print(snr)"
   ]
  },
  {
   "cell_type": "code",
   "execution_count": null,
   "metadata": {},
   "outputs": [],
   "source": []
  }
 ]
}