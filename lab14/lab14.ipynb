{
 "metadata": {
  "language_info": {
   "codemirror_mode": {
    "name": "ipython",
    "version": 3
   },
   "file_extension": ".py",
   "mimetype": "text/x-python",
   "name": "python",
   "nbconvert_exporter": "python",
   "pygments_lexer": "ipython3",
   "version": "3.8.2"
  },
  "orig_nbformat": 4,
  "kernelspec": {
   "name": "python3",
   "display_name": "Python 3.8.2 64-bit ('3.8')"
  },
  "interpreter": {
   "hash": "082e9a3bcad0a290d0001e938aa60b99250c6c2ef33a923c00b70f9826caf4b7"
  }
 },
 "nbformat": 4,
 "nbformat_minor": 2,
 "cells": [
  {
   "cell_type": "code",
   "execution_count": 1,
   "metadata": {},
   "outputs": [
    {
     "output_type": "execute_result",
     "data": {
      "text/plain": [
       "                 Timestamp (UTC)   Accel-X   Accel-Y   Accel-Z    Gyro-X  \\\n",
       "0     2021-07-18 19:38:25.216649  1.026352  0.220828  9.833689  0.582308   \n",
       "1     2021-07-18 19:38:25.832986  0.970908  0.332507  9.819850  0.592509   \n",
       "2     2021-07-18 19:38:26.450044  0.903096  0.471929  9.803224  0.589182   \n",
       "3     2021-07-18 19:38:27.067046  0.849210  0.607099  9.805447  0.587473   \n",
       "4     2021-07-18 19:38:27.683402  0.623980  0.684462  9.749561  0.576663   \n",
       "...                          ...       ...       ...       ...       ...   \n",
       "3065  2021-07-18 20:09:58.359088  0.247233  2.146055  9.135187  0.567664   \n",
       "3066  2021-07-18 20:09:58.975162  0.365237  2.047128  9.136237  0.571476   \n",
       "3067  2021-07-18 20:09:59.591295  0.193979  1.999785  9.333761  0.553771   \n",
       "3068  2021-07-18 20:10:00.208589  0.059440  2.091060  9.186115  0.584193   \n",
       "3069  2021-07-18 20:10:00.835475  0.098794  2.139965  9.141340  0.583319   \n",
       "\n",
       "        Gyro-Y    Gyro-Z      Mag-X      Mag-Y      Mag-Z  \n",
       "0     0.322654 -0.769382  -2.715035 -12.157078  45.595769  \n",
       "1     0.330452 -0.769902  -2.074577 -11.658333  45.665719  \n",
       "2     0.324757 -0.766122  -1.486484 -11.040606  45.693542  \n",
       "3     0.323649 -0.764833  -0.864133 -10.516000  45.825130  \n",
       "4     0.312049 -0.816623  -0.164515 -10.441316  45.930627  \n",
       "...        ...       ...        ...        ...        ...  \n",
       "3065  0.256865 -1.414120  21.768907  10.663329  45.160894  \n",
       "3066  0.281306 -1.323460  22.492522  11.696796  45.049961  \n",
       "3067  0.297137 -1.141288  23.182716  12.848491  44.850635  \n",
       "3068  0.298420 -1.045016  23.697170  13.603377  44.708225  \n",
       "3069  0.295248 -1.001498  24.380831  13.553423  44.520297  \n",
       "\n",
       "[3070 rows x 10 columns]"
      ],
      "text/html": "<div>\n<style scoped>\n    .dataframe tbody tr th:only-of-type {\n        vertical-align: middle;\n    }\n\n    .dataframe tbody tr th {\n        vertical-align: top;\n    }\n\n    .dataframe thead th {\n        text-align: right;\n    }\n</style>\n<table border=\"1\" class=\"dataframe\">\n  <thead>\n    <tr style=\"text-align: right;\">\n      <th></th>\n      <th>Timestamp (UTC)</th>\n      <th>Accel-X</th>\n      <th>Accel-Y</th>\n      <th>Accel-Z</th>\n      <th>Gyro-X</th>\n      <th>Gyro-Y</th>\n      <th>Gyro-Z</th>\n      <th>Mag-X</th>\n      <th>Mag-Y</th>\n      <th>Mag-Z</th>\n    </tr>\n  </thead>\n  <tbody>\n    <tr>\n      <th>0</th>\n      <td>2021-07-18 19:38:25.216649</td>\n      <td>1.026352</td>\n      <td>0.220828</td>\n      <td>9.833689</td>\n      <td>0.582308</td>\n      <td>0.322654</td>\n      <td>-0.769382</td>\n      <td>-2.715035</td>\n      <td>-12.157078</td>\n      <td>45.595769</td>\n    </tr>\n    <tr>\n      <th>1</th>\n      <td>2021-07-18 19:38:25.832986</td>\n      <td>0.970908</td>\n      <td>0.332507</td>\n      <td>9.819850</td>\n      <td>0.592509</td>\n      <td>0.330452</td>\n      <td>-0.769902</td>\n      <td>-2.074577</td>\n      <td>-11.658333</td>\n      <td>45.665719</td>\n    </tr>\n    <tr>\n      <th>2</th>\n      <td>2021-07-18 19:38:26.450044</td>\n      <td>0.903096</td>\n      <td>0.471929</td>\n      <td>9.803224</td>\n      <td>0.589182</td>\n      <td>0.324757</td>\n      <td>-0.766122</td>\n      <td>-1.486484</td>\n      <td>-11.040606</td>\n      <td>45.693542</td>\n    </tr>\n    <tr>\n      <th>3</th>\n      <td>2021-07-18 19:38:27.067046</td>\n      <td>0.849210</td>\n      <td>0.607099</td>\n      <td>9.805447</td>\n      <td>0.587473</td>\n      <td>0.323649</td>\n      <td>-0.764833</td>\n      <td>-0.864133</td>\n      <td>-10.516000</td>\n      <td>45.825130</td>\n    </tr>\n    <tr>\n      <th>4</th>\n      <td>2021-07-18 19:38:27.683402</td>\n      <td>0.623980</td>\n      <td>0.684462</td>\n      <td>9.749561</td>\n      <td>0.576663</td>\n      <td>0.312049</td>\n      <td>-0.816623</td>\n      <td>-0.164515</td>\n      <td>-10.441316</td>\n      <td>45.930627</td>\n    </tr>\n    <tr>\n      <th>...</th>\n      <td>...</td>\n      <td>...</td>\n      <td>...</td>\n      <td>...</td>\n      <td>...</td>\n      <td>...</td>\n      <td>...</td>\n      <td>...</td>\n      <td>...</td>\n      <td>...</td>\n    </tr>\n    <tr>\n      <th>3065</th>\n      <td>2021-07-18 20:09:58.359088</td>\n      <td>0.247233</td>\n      <td>2.146055</td>\n      <td>9.135187</td>\n      <td>0.567664</td>\n      <td>0.256865</td>\n      <td>-1.414120</td>\n      <td>21.768907</td>\n      <td>10.663329</td>\n      <td>45.160894</td>\n    </tr>\n    <tr>\n      <th>3066</th>\n      <td>2021-07-18 20:09:58.975162</td>\n      <td>0.365237</td>\n      <td>2.047128</td>\n      <td>9.136237</td>\n      <td>0.571476</td>\n      <td>0.281306</td>\n      <td>-1.323460</td>\n      <td>22.492522</td>\n      <td>11.696796</td>\n      <td>45.049961</td>\n    </tr>\n    <tr>\n      <th>3067</th>\n      <td>2021-07-18 20:09:59.591295</td>\n      <td>0.193979</td>\n      <td>1.999785</td>\n      <td>9.333761</td>\n      <td>0.553771</td>\n      <td>0.297137</td>\n      <td>-1.141288</td>\n      <td>23.182716</td>\n      <td>12.848491</td>\n      <td>44.850635</td>\n    </tr>\n    <tr>\n      <th>3068</th>\n      <td>2021-07-18 20:10:00.208589</td>\n      <td>0.059440</td>\n      <td>2.091060</td>\n      <td>9.186115</td>\n      <td>0.584193</td>\n      <td>0.298420</td>\n      <td>-1.045016</td>\n      <td>23.697170</td>\n      <td>13.603377</td>\n      <td>44.708225</td>\n    </tr>\n    <tr>\n      <th>3069</th>\n      <td>2021-07-18 20:10:00.835475</td>\n      <td>0.098794</td>\n      <td>2.139965</td>\n      <td>9.141340</td>\n      <td>0.583319</td>\n      <td>0.295248</td>\n      <td>-1.001498</td>\n      <td>24.380831</td>\n      <td>13.553423</td>\n      <td>44.520297</td>\n    </tr>\n  </tbody>\n</table>\n<p>3070 rows × 10 columns</p>\n</div>"
     },
     "metadata": {},
     "execution_count": 1
    }
   ],
   "source": [
    "import pandas as pd\n",
    "import numpy as np\n",
    "data = pd.read_csv('clean_data.csv')\n",
    "data"
   ]
  },
  {
   "cell_type": "code",
   "execution_count": 3,
   "metadata": {},
   "outputs": [
    {
     "output_type": "stream",
     "name": "stdout",
     "text": [
      "avg vertical acceleration 9.743679279894794\nmedian vertical acceleration 9.720214451623715\n"
     ]
    }
   ],
   "source": [
    "avg_acc_z = data['Accel-Z'].mean()\n",
    "median_acc_z = data['Accel-Z'].median() \n",
    "print(\"avg vertical acceleration\", avg_acc_z)\n",
    "print(\"median vertical acceleration\", median_acc_z)"
   ]
  },
  {
   "cell_type": "code",
   "execution_count": 5,
   "metadata": {},
   "outputs": [
    {
     "output_type": "stream",
     "name": "stdout",
     "text": [
      "9.830983591451451\n9.839160462711895\n"
     ]
    }
   ],
   "source": [
    "acc_x = data['Accel-X'].to_numpy()\n",
    "acc_y = data['Accel-Y'].to_numpy()\n",
    "acc_z = data['Accel-Z'].to_numpy()\n",
    "\n",
    "accs = np.vstack((acc_x, acc_y, acc_z))\n",
    "\n",
    "avg_acc_mag = np.average(np.sqrt(acc_x ** 2 + acc_y ** 2 + acc_z ** 2))\n",
    "avg_acc_mag = np.average(np.linalg.norm(accs, axis=0)) # ^ does the same thing iin more concise way\n",
    "print(avg_acc_mag)\n",
    "median_acc_mag = np.median(np.linalg.norm(accs, axis=0))\n",
    "print(median_acc_mag)"
   ]
  },
  {
   "cell_type": "code",
   "execution_count": 6,
   "metadata": {},
   "outputs": [
    {
     "output_type": "stream",
     "name": "stdout",
     "text": [
      "6.496497689293469\n7.6127749850871655\n"
     ]
    }
   ],
   "source": [
    "# average tilt = theta\n",
    "# cos(theta) = g / (avg z acceleration)\n",
    "# theta = arccos(g / (avg z acceleration))\n",
    "g = 9.80665 # m/s^2\n",
    "avg_tilt = np.arccos(avg_acc_z / g)\n",
    "print(avg_tilt * 180 / np.pi)\n",
    "median_tilt = np.arccos(median_acc_z / g)\n",
    "print(median_tilt * 180 / np.pi)"
   ]
  },
  {
   "cell_type": "code",
   "execution_count": 10,
   "metadata": {},
   "outputs": [
    {
     "output_type": "stream",
     "name": "stdout",
     "text": [
      "3071\n[   0.            0.5984067     1.1556691  ... -215.16748019 -215.13078824\n -215.06885564]\n-52178.935964013115\n29202.58900819356\n"
     ]
    },
    {
     "output_type": "execute_result",
     "data": {
      "text/plain": [
       "                Timestamp (UTC)   Accel-X   Accel-Y   Accel-Z    Gyro-X  \\\n",
       "0    2021-07-18 19:38:25.216649  1.026352  0.220828  9.833689  0.582308   \n",
       "1    2021-07-18 19:38:25.832986  0.970908  0.332507  9.819850  0.592509   \n",
       "2    2021-07-18 19:38:26.450044  0.903096  0.471929  9.803224  0.589182   \n",
       "3    2021-07-18 19:38:27.067046  0.849210  0.607099  9.805447  0.587473   \n",
       "4    2021-07-18 19:38:27.683402  0.623980  0.684462  9.749561  0.576663   \n",
       "...                         ...       ...       ...       ...       ...   \n",
       "3065 2021-07-18 20:09:58.359088  0.247233  2.146055  9.135187  0.567664   \n",
       "3066 2021-07-18 20:09:58.975162  0.365237  2.047128  9.136237  0.571476   \n",
       "3067 2021-07-18 20:09:59.591295  0.193979  1.999785  9.333761  0.553771   \n",
       "3068 2021-07-18 20:10:00.208589  0.059440  2.091060  9.186115  0.584193   \n",
       "3069 2021-07-18 20:10:00.835475  0.098794  2.139965  9.141340  0.583319   \n",
       "\n",
       "        Gyro-Y    Gyro-Z      Mag-X      Mag-Y      Mag-Z    velocity  \\\n",
       "0     0.322654 -0.769382  -2.715035 -12.157078  45.595769    0.000000   \n",
       "1     0.330452 -0.769902  -2.074577 -11.658333  45.665719    0.598407   \n",
       "2     0.324757 -0.766122  -1.486484 -11.040606  45.693542    1.155669   \n",
       "3     0.323649 -0.764833  -0.864133 -10.516000  45.825130    1.679634   \n",
       "4     0.312049 -0.816623  -0.164515 -10.441316  45.930627    2.064228   \n",
       "...        ...       ...        ...        ...        ...         ...   \n",
       "3065  0.256865 -1.414120  21.768907  10.663329  45.160894 -215.512010   \n",
       "3066  0.281306 -1.323460  22.492522  11.696796  45.049961 -215.286997   \n",
       "3067  0.297137 -1.141288  23.182716  12.848491  44.850635 -215.167480   \n",
       "3068  0.298420 -1.045016  23.697170  13.603377  44.708225 -215.130788   \n",
       "3069  0.295248 -1.001498  24.380831  13.553423  44.520297 -215.068856   \n",
       "\n",
       "      Velocity-X  Velocity-Y  \n",
       "0       0.000000    0.000000  \n",
       "1       0.598407    0.204936  \n",
       "2       1.155669    0.496144  \n",
       "3       1.679634    0.870726  \n",
       "4       2.064228    1.292598  \n",
       "...          ...         ...  \n",
       "3065 -215.512010 -358.226834  \n",
       "3066 -215.286997 -356.965651  \n",
       "3067 -215.167480 -355.733518  \n",
       "3068 -215.130788 -354.442719  \n",
       "3069 -215.068856 -353.101205  \n",
       "\n",
       "[3070 rows x 13 columns]"
      ],
      "text/html": "<div>\n<style scoped>\n    .dataframe tbody tr th:only-of-type {\n        vertical-align: middle;\n    }\n\n    .dataframe tbody tr th {\n        vertical-align: top;\n    }\n\n    .dataframe thead th {\n        text-align: right;\n    }\n</style>\n<table border=\"1\" class=\"dataframe\">\n  <thead>\n    <tr style=\"text-align: right;\">\n      <th></th>\n      <th>Timestamp (UTC)</th>\n      <th>Accel-X</th>\n      <th>Accel-Y</th>\n      <th>Accel-Z</th>\n      <th>Gyro-X</th>\n      <th>Gyro-Y</th>\n      <th>Gyro-Z</th>\n      <th>Mag-X</th>\n      <th>Mag-Y</th>\n      <th>Mag-Z</th>\n      <th>velocity</th>\n      <th>Velocity-X</th>\n      <th>Velocity-Y</th>\n    </tr>\n  </thead>\n  <tbody>\n    <tr>\n      <th>0</th>\n      <td>2021-07-18 19:38:25.216649</td>\n      <td>1.026352</td>\n      <td>0.220828</td>\n      <td>9.833689</td>\n      <td>0.582308</td>\n      <td>0.322654</td>\n      <td>-0.769382</td>\n      <td>-2.715035</td>\n      <td>-12.157078</td>\n      <td>45.595769</td>\n      <td>0.000000</td>\n      <td>0.000000</td>\n      <td>0.000000</td>\n    </tr>\n    <tr>\n      <th>1</th>\n      <td>2021-07-18 19:38:25.832986</td>\n      <td>0.970908</td>\n      <td>0.332507</td>\n      <td>9.819850</td>\n      <td>0.592509</td>\n      <td>0.330452</td>\n      <td>-0.769902</td>\n      <td>-2.074577</td>\n      <td>-11.658333</td>\n      <td>45.665719</td>\n      <td>0.598407</td>\n      <td>0.598407</td>\n      <td>0.204936</td>\n    </tr>\n    <tr>\n      <th>2</th>\n      <td>2021-07-18 19:38:26.450044</td>\n      <td>0.903096</td>\n      <td>0.471929</td>\n      <td>9.803224</td>\n      <td>0.589182</td>\n      <td>0.324757</td>\n      <td>-0.766122</td>\n      <td>-1.486484</td>\n      <td>-11.040606</td>\n      <td>45.693542</td>\n      <td>1.155669</td>\n      <td>1.155669</td>\n      <td>0.496144</td>\n    </tr>\n    <tr>\n      <th>3</th>\n      <td>2021-07-18 19:38:27.067046</td>\n      <td>0.849210</td>\n      <td>0.607099</td>\n      <td>9.805447</td>\n      <td>0.587473</td>\n      <td>0.323649</td>\n      <td>-0.764833</td>\n      <td>-0.864133</td>\n      <td>-10.516000</td>\n      <td>45.825130</td>\n      <td>1.679634</td>\n      <td>1.679634</td>\n      <td>0.870726</td>\n    </tr>\n    <tr>\n      <th>4</th>\n      <td>2021-07-18 19:38:27.683402</td>\n      <td>0.623980</td>\n      <td>0.684462</td>\n      <td>9.749561</td>\n      <td>0.576663</td>\n      <td>0.312049</td>\n      <td>-0.816623</td>\n      <td>-0.164515</td>\n      <td>-10.441316</td>\n      <td>45.930627</td>\n      <td>2.064228</td>\n      <td>2.064228</td>\n      <td>1.292598</td>\n    </tr>\n    <tr>\n      <th>...</th>\n      <td>...</td>\n      <td>...</td>\n      <td>...</td>\n      <td>...</td>\n      <td>...</td>\n      <td>...</td>\n      <td>...</td>\n      <td>...</td>\n      <td>...</td>\n      <td>...</td>\n      <td>...</td>\n      <td>...</td>\n      <td>...</td>\n    </tr>\n    <tr>\n      <th>3065</th>\n      <td>2021-07-18 20:09:58.359088</td>\n      <td>0.247233</td>\n      <td>2.146055</td>\n      <td>9.135187</td>\n      <td>0.567664</td>\n      <td>0.256865</td>\n      <td>-1.414120</td>\n      <td>21.768907</td>\n      <td>10.663329</td>\n      <td>45.160894</td>\n      <td>-215.512010</td>\n      <td>-215.512010</td>\n      <td>-358.226834</td>\n    </tr>\n    <tr>\n      <th>3066</th>\n      <td>2021-07-18 20:09:58.975162</td>\n      <td>0.365237</td>\n      <td>2.047128</td>\n      <td>9.136237</td>\n      <td>0.571476</td>\n      <td>0.281306</td>\n      <td>-1.323460</td>\n      <td>22.492522</td>\n      <td>11.696796</td>\n      <td>45.049961</td>\n      <td>-215.286997</td>\n      <td>-215.286997</td>\n      <td>-356.965651</td>\n    </tr>\n    <tr>\n      <th>3067</th>\n      <td>2021-07-18 20:09:59.591295</td>\n      <td>0.193979</td>\n      <td>1.999785</td>\n      <td>9.333761</td>\n      <td>0.553771</td>\n      <td>0.297137</td>\n      <td>-1.141288</td>\n      <td>23.182716</td>\n      <td>12.848491</td>\n      <td>44.850635</td>\n      <td>-215.167480</td>\n      <td>-215.167480</td>\n      <td>-355.733518</td>\n    </tr>\n    <tr>\n      <th>3068</th>\n      <td>2021-07-18 20:10:00.208589</td>\n      <td>0.059440</td>\n      <td>2.091060</td>\n      <td>9.186115</td>\n      <td>0.584193</td>\n      <td>0.298420</td>\n      <td>-1.045016</td>\n      <td>23.697170</td>\n      <td>13.603377</td>\n      <td>44.708225</td>\n      <td>-215.130788</td>\n      <td>-215.130788</td>\n      <td>-354.442719</td>\n    </tr>\n    <tr>\n      <th>3069</th>\n      <td>2021-07-18 20:10:00.835475</td>\n      <td>0.098794</td>\n      <td>2.139965</td>\n      <td>9.141340</td>\n      <td>0.583319</td>\n      <td>0.295248</td>\n      <td>-1.001498</td>\n      <td>24.380831</td>\n      <td>13.553423</td>\n      <td>44.520297</td>\n      <td>-215.068856</td>\n      <td>-215.068856</td>\n      <td>-353.101205</td>\n    </tr>\n  </tbody>\n</table>\n<p>3070 rows × 13 columns</p>\n</div>"
     },
     "metadata": {},
     "execution_count": 10
    }
   ],
   "source": [
    "# v_x[i] = v_x[i-1] + a_x[i]*t\n",
    "data['Timestamp (UTC)'] = data['Timestamp (UTC)'].apply(pd.to_datetime)\n",
    "dt = (data['Timestamp (UTC)'][1] - data['Timestamp (UTC)'][0]).total_seconds()\n",
    "# ^ number of seconds between first time AUV recorded acceleration and the second time\n",
    "\n",
    "length = data['Accel-X'].shape[0] # length of data\n",
    "v_x = np.zeros(length) # array of velocities in x-axis\n",
    "v_y = np.zeros(length) # array of velocities in y-axis\n",
    "dt = np.zeros(length) # array of velocities in y-axis\n",
    "print(length + 1)\n",
    "for i in range(1, length):\n",
    "    # print(data['Timestamp (UTC)'][i] - data['Timestamp (UTC)'][i-1])\n",
    "    dt[i] = (data['Timestamp (UTC)'][i] - data['Timestamp (UTC)'][i-1]).total_seconds()\n",
    "    v_x[i] = v_x[i-1] + data['Accel-X'][i] * dt[i]\n",
    "    v_y[i] = v_y[i-1] + data['Accel-Y'][i] * dt[i]\n",
    "print(v_x)\n",
    "data['Velocity-X'] = v_x\n",
    "data['Velocity-Y'] = v_y\n",
    "dx = v_x * dt\n",
    "dy = v_y * dt\n",
    "# print(v_x)\n",
    "# print(v_y)\n",
    "# print(dt)\n",
    "# np.savetxt('v_x.txt', v_x)\n",
    "print(sum(dx))\n",
    "print(sum(dy))\n",
    "data"
   ]
  },
  {
   "cell_type": "code",
   "execution_count": null,
   "metadata": {},
   "outputs": [],
   "source": []
  }
 ]
}